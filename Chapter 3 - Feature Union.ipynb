{
 "metadata": {
  "name": ""
 },
 "nbformat": 3,
 "nbformat_minor": 0,
 "worksheets": [
  {
   "cells": [
    {
     "cell_type": "markdown",
     "metadata": {},
     "source": [
      "More process building tools!\n",
      "----------------------------"
     ]
    },
    {
     "cell_type": "markdown",
     "metadata": {},
     "source": [
      "Use multiple feature extractors (on the same data), concatenate results."
     ]
    },
    {
     "cell_type": "code",
     "collapsed": false,
     "input": [
      "from sklearn.pipeline import make_union, make_pipeline\n",
      "from sklearn.feature_extraction.text import TfidfVectorizer\n",
      "from sklearn.svm import LinearSVC\n",
      "from sklearn.grid_search import GridSearchCV\n",
      "import numpy as np"
     ],
     "language": "python",
     "metadata": {},
     "outputs": [],
     "prompt_number": 14
    },
    {
     "cell_type": "code",
     "collapsed": false,
     "input": [
      "from sklearn.datasets import fetch_20newsgroups"
     ],
     "language": "python",
     "metadata": {},
     "outputs": [],
     "prompt_number": 16
    },
    {
     "cell_type": "code",
     "collapsed": false,
     "input": [
      "news = fetch_20newsgroups()"
     ],
     "language": "python",
     "metadata": {},
     "outputs": [],
     "prompt_number": 22
    },
    {
     "cell_type": "code",
     "collapsed": false,
     "input": [
      "data, y = news.data, news.target"
     ],
     "language": "python",
     "metadata": {},
     "outputs": [],
     "prompt_number": 24
    },
    {
     "cell_type": "code",
     "collapsed": false,
     "input": [
      "from sklearn.cross_validation import train_test_split\n",
      "data_train, data_test, y_train, y_test = train_test_split(data, y)"
     ],
     "language": "python",
     "metadata": {},
     "outputs": [],
     "prompt_number": 26
    },
    {
     "cell_type": "code",
     "collapsed": false,
     "input": [
      "char_and_word = make_union(TfidfVectorizer(analyzer=\"char\"), TfidfVectorizer(analyzer=\"word\"))\n",
      "\n",
      "text_pipe = make_pipeline(char_and_word, LinearSVC(dual=False))\n",
      "param_grid = {'linearsvc__C': 10. ** np.arange(-3, 3)}\n",
      "\n",
      "grid = GridSearchCV(text_pipe, param_grid=param_grid, cv=5, verbose=10)"
     ],
     "language": "python",
     "metadata": {},
     "outputs": [],
     "prompt_number": 43
    },
    {
     "cell_type": "code",
     "collapsed": false,
     "input": [
      "grid.fit(data_train, y_train)"
     ],
     "language": "python",
     "metadata": {},
     "outputs": [
      {
       "output_type": "stream",
       "stream": "stdout",
       "text": [
        "Fitting 5 folds for each of 6 candidates, totalling 30 fits\n",
        "[CV] linearsvc__C=0.001 ..............................................\n",
        "[CV] ..................... linearsvc__C=0.001, score=0.619718 -  13.7s"
       ]
      },
      {
       "output_type": "stream",
       "stream": "stdout",
       "text": [
        "\n",
        "[CV] linearsvc__C=0.001 ..............................................\n",
        "[CV] ..................... linearsvc__C=0.001, score=0.616334 -  13.4s"
       ]
      },
      {
       "output_type": "stream",
       "stream": "stderr",
       "text": [
        "[Parallel(n_jobs=1)]: Done   1 jobs       | elapsed:   13.7s\n",
        "[Parallel(n_jobs=1)]: Done   2 jobs       | elapsed:   27.1s\n"
       ]
      },
      {
       "output_type": "stream",
       "stream": "stdout",
       "text": [
        "\n",
        "[CV] linearsvc__C=0.001 ..............................................\n",
        "[CV] ..................... linearsvc__C=0.001, score=0.592353 -  13.4s"
       ]
      },
      {
       "output_type": "stream",
       "stream": "stdout",
       "text": [
        "\n",
        "[CV] linearsvc__C=0.001 ..............................................\n",
        "[CV] ..................... linearsvc__C=0.001, score=0.632979 -  13.8s"
       ]
      },
      {
       "output_type": "stream",
       "stream": "stdout",
       "text": [
        "\n",
        "[CV] linearsvc__C=0.001 ..............................................\n",
        "[CV] ..................... linearsvc__C=0.001, score=0.611737 -  14.7s"
       ]
      },
      {
       "output_type": "stream",
       "stream": "stdout",
       "text": [
        "\n",
        "[CV] linearsvc__C=0.01 ...............................................\n",
        "[CV] ...................... linearsvc__C=0.01, score=0.813967 -  16.7s"
       ]
      },
      {
       "output_type": "stream",
       "stream": "stdout",
       "text": [
        "\n",
        "[CV] linearsvc__C=0.01 ...............................................\n",
        "[CV] ...................... linearsvc__C=0.01, score=0.793184 -  16.5s"
       ]
      },
      {
       "output_type": "stream",
       "stream": "stdout",
       "text": [
        "\n",
        "[CV] linearsvc__C=0.01 ...............................................\n",
        "[CV] ...................... linearsvc__C=0.01, score=0.788235 -  16.5s"
       ]
      },
      {
       "output_type": "stream",
       "stream": "stderr",
       "text": [
        "[Parallel(n_jobs=1)]: Done   5 jobs       | elapsed:  1.2min\n",
        "[Parallel(n_jobs=1)]: Done   8 jobs       | elapsed:  2.0min\n"
       ]
      },
      {
       "output_type": "stream",
       "stream": "stdout",
       "text": [
        "\n",
        "[CV] linearsvc__C=0.01 ...............................................\n",
        "[CV] ...................... linearsvc__C=0.01, score=0.808511 -  16.5s"
       ]
      },
      {
       "output_type": "stream",
       "stream": "stdout",
       "text": [
        "\n",
        "[CV] linearsvc__C=0.01 ...............................................\n",
        "[CV] ...................... linearsvc__C=0.01, score=0.794902 -  17.1s"
       ]
      },
      {
       "output_type": "stream",
       "stream": "stdout",
       "text": [
        "\n",
        "[CV] linearsvc__C=0.1 ................................................\n",
        "[CV] ....................... linearsvc__C=0.1, score=0.896714 -  20.3s"
       ]
      },
      {
       "output_type": "stream",
       "stream": "stdout",
       "text": [
        "\n",
        "[CV] linearsvc__C=0.1 ................................................\n",
        "[CV] ....................... linearsvc__C=0.1, score=0.887192 -  19.3s"
       ]
      },
      {
       "output_type": "stream",
       "stream": "stdout",
       "text": [
        "\n",
        "[CV] linearsvc__C=0.1 ................................................\n",
        "[CV] ....................... linearsvc__C=0.1, score=0.885294 -  19.2s"
       ]
      },
      {
       "output_type": "stream",
       "stream": "stdout",
       "text": [
        "\n",
        "[CV] linearsvc__C=0.1 ................................................\n",
        "[CV] ....................... linearsvc__C=0.1, score=0.888889 -  19.4s"
       ]
      },
      {
       "output_type": "stream",
       "stream": "stdout",
       "text": [
        "\n",
        "[CV] linearsvc__C=0.1 ................................................\n",
        "[CV] ....................... linearsvc__C=0.1, score=0.878483 -  19.0s"
       ]
      },
      {
       "output_type": "stream",
       "stream": "stdout",
       "text": [
        "\n",
        "[CV] linearsvc__C=1.0 ................................................\n",
        "[CV] ....................... linearsvc__C=1.0, score=0.914906 -  21.9s"
       ]
      },
      {
       "output_type": "stream",
       "stream": "stdout",
       "text": [
        "\n",
        "[CV] linearsvc__C=1.0 ................................................\n",
        "[CV] ....................... linearsvc__C=1.0, score=0.920094 -  22.2s"
       ]
      },
      {
       "output_type": "stream",
       "stream": "stdout",
       "text": [
        "\n",
        "[CV] linearsvc__C=1.0 ................................................\n",
        "[CV] ....................... linearsvc__C=1.0, score=0.911176 -  22.3s"
       ]
      },
      {
       "output_type": "stream",
       "stream": "stderr",
       "text": [
        "[Parallel(n_jobs=1)]: Done  13 jobs       | elapsed:  3.5min\n",
        "[Parallel(n_jobs=1)]: Done  18 jobs       | elapsed:  5.3min\n"
       ]
      },
      {
       "output_type": "stream",
       "stream": "stdout",
       "text": [
        "\n",
        "[CV] linearsvc__C=1.0 ................................................\n",
        "[CV] ....................... linearsvc__C=1.0, score=0.916667 -  22.3s"
       ]
      },
      {
       "output_type": "stream",
       "stream": "stdout",
       "text": [
        "\n",
        "[CV] linearsvc__C=1.0 ................................................\n",
        "[CV] ....................... linearsvc__C=1.0, score=0.908121 -  24.5s"
       ]
      },
      {
       "output_type": "stream",
       "stream": "stdout",
       "text": [
        "\n",
        "[CV] linearsvc__C=10.0 ...............................................\n",
        "[CV] ...................... linearsvc__C=10.0, score=0.914906 -  41.4s"
       ]
      },
      {
       "output_type": "stream",
       "stream": "stdout",
       "text": [
        "\n",
        "[CV] linearsvc__C=10.0 ...............................................\n",
        "[CV] ...................... linearsvc__C=10.0, score=0.918919 -  40.5s"
       ]
      },
      {
       "output_type": "stream",
       "stream": "stdout",
       "text": [
        "\n",
        "[CV] linearsvc__C=10.0 ...............................................\n",
        "[CV] ...................... linearsvc__C=10.0, score=0.907647 -  34.1s"
       ]
      },
      {
       "output_type": "stream",
       "stream": "stdout",
       "text": [
        "\n",
        "[CV] linearsvc__C=10.0 ...............................................\n",
        "[CV] ...................... linearsvc__C=10.0, score=0.917849 -  37.8s"
       ]
      },
      {
       "output_type": "stream",
       "stream": "stdout",
       "text": [
        "\n",
        "[CV] linearsvc__C=10.0 ...............................................\n",
        "[CV] ...................... linearsvc__C=10.0, score=0.908121 -  36.7s"
       ]
      },
      {
       "output_type": "stream",
       "stream": "stdout",
       "text": [
        "\n",
        "[CV] linearsvc__C=100.0 ..............................................\n",
        "[CV] ..................... linearsvc__C=100.0, score=0.909624 - 1.3min"
       ]
      },
      {
       "output_type": "stream",
       "stream": "stdout",
       "text": [
        "\n",
        "[CV] linearsvc__C=100.0 ..............................................\n",
        "[CV] ..................... linearsvc__C=100.0, score=0.919506 - 1.1min"
       ]
      },
      {
       "output_type": "stream",
       "stream": "stdout",
       "text": [
        "\n",
        "[CV] linearsvc__C=100.0 ..............................................\n",
        "[CV] ..................... linearsvc__C=100.0, score=0.906471 - 1.2min"
       ]
      },
      {
       "output_type": "stream",
       "stream": "stdout",
       "text": [
        "\n",
        "[CV] linearsvc__C=100.0 ..............................................\n",
        "[CV] ..................... linearsvc__C=100.0, score=0.913712 - 1.3min"
       ]
      },
      {
       "output_type": "stream",
       "stream": "stdout",
       "text": [
        "\n",
        "[CV] linearsvc__C=100.0 ..............................................\n",
        "[CV] ..................... linearsvc__C=100.0, score=0.904564 - 1.3min"
       ]
      },
      {
       "output_type": "stream",
       "stream": "stderr",
       "text": [
        "[Parallel(n_jobs=1)]: Done  25 jobs       | elapsed:  9.2min\n",
        "[Parallel(n_jobs=1)]: Done  30 out of  30 | elapsed: 15.4min finished\n"
       ]
      },
      {
       "output_type": "stream",
       "stream": "stdout",
       "text": [
        "\n"
       ]
      },
      {
       "metadata": {},
       "output_type": "pyout",
       "prompt_number": 44,
       "text": [
        "GridSearchCV(cv=5, error_score='raise',\n",
        "       estimator=Pipeline(steps=[('featureunion', FeatureUnion(n_jobs=1,\n",
        "       transformer_list=[('tfidfvectorizer-1', TfidfVectorizer(analyzer='char', binary=False, decode_error=u'strict',\n",
        "        dtype=<type 'numpy.int64'>, encoding=u'utf-8', input=u'content',\n",
        "        lowercase=True, max_df=1.0, max_features=None, min_df=...2', max_iter=1000, multi_class='ovr',\n",
        "     penalty='l2', random_state=None, tol=0.0001, verbose=0))]),\n",
        "       fit_params={}, iid=True, loss_func=None, n_jobs=1,\n",
        "       param_grid={'linearsvc__C': array([  1.00000e-03,   1.00000e-02,   1.00000e-01,   1.00000e+00,\n",
        "         1.00000e+01,   1.00000e+02])},\n",
        "       pre_dispatch='2*n_jobs', refit=True, score_func=None, scoring=None,\n",
        "       verbose=10)"
       ]
      }
     ],
     "prompt_number": 44
    },
    {
     "cell_type": "code",
     "collapsed": false,
     "input": [
      "param_grid = {'featureunion__tfidfvectorizer-1__ngram_range': [(1, 3), (1, 5), (2, 5)],\n",
      "              'featureunion__tfidfvectorizer-2__ngram_range': [(1, 1), (1, 2), (2, 2)],\n",
      "              'linearsvc__C': 10. ** np.arange(-3, 3)}"
     ],
     "language": "python",
     "metadata": {},
     "outputs": []
    },
    {
     "cell_type": "code",
     "collapsed": false,
     "input": [],
     "language": "python",
     "metadata": {},
     "outputs": []
    }
   ],
   "metadata": {}
  }
 ]
}