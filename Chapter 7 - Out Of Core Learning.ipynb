{
 "metadata": {
  "name": ""
 },
 "nbformat": 3,
 "nbformat_minor": 0,
 "worksheets": [
  {
   "cells": [
    {
     "cell_type": "code",
     "collapsed": false,
     "input": [
      "# write out some toy data\n",
      "from sklearn.datasets import load_digits\n",
      "import cPickle\n",
      "\n",
      "digits = load_digits()\n",
      "\n",
      "X, y = digits.data, digits.target\n",
      "\n",
      "for i in range(10):\n",
      "    cPickle.dump((X[i::10], y[i::10]), open(\"batch_%02d\" % i, \"w\"), -1)"
     ],
     "language": "python",
     "metadata": {},
     "outputs": [],
     "prompt_number": 7
    },
    {
     "cell_type": "code",
     "collapsed": false,
     "input": [
      "from sklearn.linear_model import SGDClassifier\n",
      "from glob import glob"
     ],
     "language": "python",
     "metadata": {},
     "outputs": [],
     "prompt_number": 8
    },
    {
     "cell_type": "code",
     "collapsed": false,
     "input": [
      "sgd = SGDClassifier()\n",
      "\n",
      "for i in range(9):\n",
      "    X_batch, y_batch = cPickle.load(open(\"batch_%02d\" % i))\n",
      "    sgd.partial_fit(X_batch, y_batch, classes=range(10))"
     ],
     "language": "python",
     "metadata": {},
     "outputs": [],
     "prompt_number": 16
    },
    {
     "cell_type": "code",
     "collapsed": false,
     "input": [
      "X_test, y_test = cPickle.load(open(\"batch_09\"))\n",
      "\n",
      "sgd.score(X_test, y_test)"
     ],
     "language": "python",
     "metadata": {},
     "outputs": [
      {
       "metadata": {},
       "output_type": "pyout",
       "prompt_number": 17,
       "text": [
        "0.88268156424581001"
       ]
      }
     ],
     "prompt_number": 17
    },
    {
     "cell_type": "code",
     "collapsed": false,
     "input": [],
     "language": "python",
     "metadata": {},
     "outputs": []
    }
   ],
   "metadata": {}
  }
 ]
}